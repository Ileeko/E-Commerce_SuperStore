{
 "cells": [
  {
   "cell_type": "markdown",
   "metadata": {},
   "source": [
    "# Connecting to SQLite Database "
   ]
  },
  {
   "cell_type": "markdown",
   "metadata": {},
   "source": [
    "### Importing libraries:"
   ]
  },
  {
   "cell_type": "code",
   "execution_count": 1,
   "metadata": {},
   "outputs": [],
   "source": [
    "import os\n",
    "import pandas as pd \n",
    "import sqlite3"
   ]
  },
  {
   "cell_type": "markdown",
   "metadata": {},
   "source": [
    "### Creating a dictionary with the new columns names:\n",
    "The best practice its to have more conventional columns names in our database, so that's why we gonna update the columns names:"
   ]
  },
  {
   "cell_type": "code",
   "execution_count": 2,
   "metadata": {},
   "outputs": [],
   "source": [
    "# Define a dictionary to map original column names to new column names\n",
    "column_names = {\n",
    "    'address_id': 'AddressId',\n",
    "    'postal_code': 'PostalCode',\n",
    "    'city': 'City',\n",
    "    'state': 'State',\n",
    "    'region': 'Region',\n",
    "    'country': 'Country',\n",
    "    'category_id': 'CategoryId',\n",
    "    'category': 'Category',\n",
    "    'sub_category': 'SubCategory',\n",
    "    'customer_id': 'CustomerId',\n",
    "    'customer_name': 'CustomerName',\n",
    "    'segment': 'Segment',\n",
    "    'order_id': 'OrderId',\n",
    "    'order_number': 'RowId',\n",
    "    'order_date': 'OrderDate',\n",
    "    'product_id': 'ProductId',\n",
    "    'sales': 'Sales',\n",
    "    'quantity': 'Quantity',\n",
    "    'discount': 'Discount',\n",
    "    'profit': 'Profit',\n",
    "    'product_name': 'ProductName',\n",
    "    'ship_date': 'ShipDate',\n",
    "    'ship_mode': 'ShipMode'\n",
    "}"
   ]
  },
  {
   "cell_type": "markdown",
   "metadata": {},
   "source": [
    "### Creating the structues of the tables:"
   ]
  },
  {
   "cell_type": "markdown",
   "metadata": {},
   "source": [
    "Suits of the tables:\n",
    "\n",
    "1. Customers\n",
    "2. Orders\n",
    "3. Categories\n",
    "4. Products\n",
    "5. Orders_Details\n",
    "6. Address\n",
    "7. Shipments"
   ]
  },
  {
   "cell_type": "code",
   "execution_count": 6,
   "metadata": {},
   "outputs": [],
   "source": [
    "# Define SQL queries for creating tables\n",
    "create_table_queries = [\n",
    "    \n",
    "    # CUSTOMERS\n",
    "    '''\n",
    "    CREATE TABLE IF NOT EXISTS Customers(\n",
    "        CustomerId VARCHAR(15) NOT NULL,\n",
    "        CustomerName VARCHAR(160) NOT NULL,\n",
    "        Segment VARCHAR(200) NOT NULL,\n",
    "        PRIMARY KEY (CustomerId)\n",
    "    )\n",
    "    ''',\n",
    "    # ORDERS\n",
    "    '''\n",
    "    CREATE TABLE IF NOT EXISTS Orders(\n",
    "        OrderId VARCHAR(30) NOT NULL,\n",
    "        CustomerId VARCHAR(160) NOT NULL,\n",
    "        PRIMARY KEY (OrderId), \n",
    "        FOREIGN KEY (CustomerId) REFERENCES Customers(CustomerId)\n",
    "    )\n",
    "    ''',\n",
    "    # CATEGORIES\n",
    "    '''\n",
    "    CREATE TABLE IF NOT EXISTS Categories(\n",
    "        CategoryId VARCHAR(15) NOT NULL,\n",
    "        Category VARCHAR(20) NOT NULL,\n",
    "        SubCategory VARCHAR(50) NOT NULL,\n",
    "        PRIMARY KEY (CategoryId)\n",
    "    )\n",
    "    ''',\n",
    "    # PRODUCTS\n",
    "    '''\n",
    "    CREATE TABLE IF NOT EXISTS Products(\n",
    "        ProductId VARCHAR(30) NOT NULL,\n",
    "        ProductName VARCHAR(160) NOT NULL,\n",
    "        CategoryId VARCHAR(20) NOT NULL,\n",
    "        PRIMARY KEY (ProductId), \n",
    "        FOREIGN KEY (CategoryId) REFERENCES Categories(CategoryId)\n",
    "    )\n",
    "    ''',\n",
    "    # ORDERS_DETAILS\n",
    "    '''\n",
    "    CREATE TABLE IF NOT EXISTS Orders_details(\n",
    "        RowId INTEGER NOT NULL,\n",
    "        OrderId VARCHAR(30) NOT NULL,\n",
    "        OrderDate DATE NOT NULL,\n",
    "        ProductId VARCHAR(30) NOT NULL,\n",
    "        Sales DECIMAL NOT NULL,\n",
    "        Quantity INTEGER NOT NULL,\n",
    "        Discount DECIMAL NOT NULL,\n",
    "        Profit DECIMAL NOT NULL,\n",
    "        PRIMARY KEY (RowID), \n",
    "        FOREIGN KEY (OrderId) REFERENCES Orders(OrderId),\n",
    "        FOREIGN KEY (ProductId) REFERENCES Products(ProductId)\n",
    "    )\n",
    "    ''',\n",
    "    # ADDRESS\n",
    "    '''\n",
    "    CREATE TABLE IF NOT EXISTS Address(\n",
    "        AddressId VARCHAR(15) NOT NULL,\n",
    "        PostalCode INTEGER NOT NULL,\n",
    "        City TEXT NOT NULL,\n",
    "        State TEXT NOT NULL,\n",
    "        Region TEXT NOT NULL,\n",
    "        Country TEXT NOT NULL,\n",
    "        PRIMARY KEY (AddressId)\n",
    "    )\n",
    "    ''',\n",
    "    # SHIPMENTS\n",
    "    '''\n",
    "    CREATE TABLE IF NOT EXISTS Shipments(\n",
    "        RowId INTEGER NOT NULL,\n",
    "        OrderId VARCHAR(30) NOT NULL,\n",
    "        ShipDate DATE NOT NULL,\n",
    "        ShipMode TEXT NOT NULL,\n",
    "        AddressId VARCHAR(15) NOT NULL,\n",
    "        FOREIGN KEY (RowId) REFERENCES Orders_details(RowId),\n",
    "        FOREIGN KEY (OrderId) REFERENCES Orders(OrderId),\n",
    "        FOREIGN KEY (AddressId) REFERENCES Address(AddressId)\n",
    "    )\n",
    "    '''\n",
    "]"
   ]
  },
  {
   "cell_type": "markdown",
   "metadata": {},
   "source": [
    "### Connecting to SQLite database:"
   ]
  },
  {
   "cell_type": "code",
   "execution_count": 4,
   "metadata": {},
   "outputs": [],
   "source": [
    "# Connect to SQLite database (if it doesn't exist, it will be created)\n",
    "conn = sqlite3.connect(\"DB_browser/SuperStore.db\")\n",
    "cursor = conn.cursor()"
   ]
  },
  {
   "cell_type": "markdown",
   "metadata": {},
   "source": [
    "### Creating tables in the database:"
   ]
  },
  {
   "cell_type": "code",
   "execution_count": 7,
   "metadata": {},
   "outputs": [],
   "source": [
    "# Create tables with defined schemas\n",
    "for create_table_query in create_table_queries:\n",
    "    cursor.execute(create_table_query)"
   ]
  },
  {
   "cell_type": "markdown",
   "metadata": {},
   "source": [
    "### Importing CSVs data into SQLite tables:"
   ]
  },
  {
   "cell_type": "code",
   "execution_count": 8,
   "metadata": {},
   "outputs": [
    {
     "name": "stdout",
     "output_type": "stream",
     "text": [
      "Checking the new names column: \n",
      " Index(['AddressId', 'PostalCode', 'City', 'State', 'Region', 'Country'], dtype='object') \n",
      "\n",
      "Checking the new names column: \n",
      " Index(['CategoryId', 'Category', 'SubCategory'], dtype='object') \n",
      "\n",
      "Checking the new names column: \n",
      " Index(['CustomerId', 'CustomerName', 'Segment'], dtype='object') \n",
      "\n",
      "Checking the new names column: \n",
      " Index(['OrderId', 'CustomerId'], dtype='object') \n",
      "\n",
      "Checking the new names column: \n",
      " Index(['RowId', 'OrderId', 'OrderDate', 'ProductId', 'Sales', 'Quantity',\n",
      "       'Discount', 'Profit'],\n",
      "      dtype='object') \n",
      "\n",
      "Checking the new names column: \n",
      " Index(['ProductId', 'ProductName', 'CategoryId'], dtype='object') \n",
      "\n",
      "Checking the new names column: \n",
      " Index(['RowId', 'OrderId', 'ShipDate', 'ShipMode', 'AddressId'], dtype='object') \n",
      "\n",
      "Data insertion completed successfully.\n"
     ]
    }
   ],
   "source": [
    "# Get list of CSV files in the Tables folder\n",
    "tables_folder = \"Tables/\"\n",
    "files = [f for f in os.listdir(tables_folder) if f.endswith('.csv')]\n",
    "\n",
    "# Iterate through each CSV file\n",
    "for file in files:\n",
    "    table_name = os.path.splitext(file)[0]  # Extract table name from CSV file name\n",
    "    \n",
    "    # Read CSV file using pandas\n",
    "    df = pd.read_csv(os.path.join(tables_folder, file))\n",
    "    \n",
    "    # Rename columns using 'column_names 'dictionary\n",
    "    df.rename(columns=column_names, inplace=True)\n",
    "    \n",
    "    print(f\"Checking the new names column: \\n {df.columns} \\n\")\n",
    "    \n",
    "    # Insert data into the table\n",
    "    df.to_sql(table_name, conn, if_exists='append', index=False)\n",
    "\n",
    "print(\"Data insertion completed successfully.\")"
   ]
  },
  {
   "cell_type": "markdown",
   "metadata": {},
   "source": [
    "### Close the connection with the database:"
   ]
  },
  {
   "cell_type": "code",
   "execution_count": 9,
   "metadata": {},
   "outputs": [
    {
     "name": "stdout",
     "output_type": "stream",
     "text": [
      "Database created and tables populated successfully.\n"
     ]
    }
   ],
   "source": [
    "# Commit changes and close connection\n",
    "conn.commit()\n",
    "conn.close()\n",
    "\n",
    "print(\"Database created and tables populated successfully.\")"
   ]
  }
 ],
 "metadata": {
  "kernelspec": {
   "display_name": "Python 3",
   "language": "python",
   "name": "python3"
  },
  "language_info": {
   "codemirror_mode": {
    "name": "ipython",
    "version": 3
   },
   "file_extension": ".py",
   "mimetype": "text/x-python",
   "name": "python",
   "nbconvert_exporter": "python",
   "pygments_lexer": "ipython3",
   "version": "3.12.2"
  }
 },
 "nbformat": 4,
 "nbformat_minor": 2
}
